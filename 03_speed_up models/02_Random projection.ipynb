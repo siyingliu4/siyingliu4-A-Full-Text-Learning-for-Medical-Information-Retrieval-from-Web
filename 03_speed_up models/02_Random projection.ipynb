{
 "cells": [
  {
   "cell_type": "markdown",
   "metadata": {},
   "source": [
    "## SVM - Random Projection"
   ]
  },
  {
   "cell_type": "markdown",
   "metadata": {},
   "source": [
    "### tf, df, dictionary"
   ]
  },
  {
   "cell_type": "code",
   "execution_count": 47,
   "metadata": {
    "collapsed": true
   },
   "outputs": [],
   "source": [
    "from collections import Counter\n",
    "\n",
    "def dic_(allDocument): # alldocument=collection: list\n",
    "    long_str = \" \".join(allDocument)\n",
    "    b=list(set(list(long_str.split())))\n",
    "    return sorted(b)\n",
    "\n",
    "def tf_(doc_que):\n",
    "    counts = Counter(list(doc_que.split()))\n",
    "    return dict(counts)\n",
    "\n",
    "def df_(term, allDocuments):  # df: no. of occurance of a term in whole collection\n",
    "    dic=dict.fromkeys(term, 0)\n",
    "    for i in allDocuments:\n",
    "        n=0\n",
    "        for word in term:\n",
    "            if word in i.split():         \n",
    "                dic[word]=dic[word]+1\n",
    "            n+=1  \n",
    "    return dic  \n"
   ]
  },
  {
   "cell_type": "markdown",
   "metadata": {},
   "source": [
    "### tf-idf"
   ]
  },
  {
   "cell_type": "code",
   "execution_count": 48,
   "metadata": {
    "collapsed": true
   },
   "outputs": [],
   "source": [
    "import math\n",
    "\n",
    "def tfidf_(query_s,c,df,allDocument): # query_s: Series (df['col']), allDocument:list\n",
    "    \n",
    "    all_tfidf=[]\n",
    "    for query in query_s:\n",
    "        q_tf=tf_(query)\n",
    "        mac=q_tf.values()\n",
    "        max_tf=max(q_tf.values())\n",
    "        tfidf=[]\n",
    "        for word in c:\n",
    "            if word not in q_tf: # query item does not shown in doc collection\n",
    "                    value=0\n",
    "            else:\n",
    "                value=(1+math.log10(q_tf.get(word)))/(1+math.log10(max_tf))*math.log10(len(allDocument)/df.get(word))\n",
    "           \n",
    "            tfidf.append(value)\n",
    "        all_tfidf.append(tfidf)\n",
    "    return np.array(all_tfidf) #vector"
   ]
  },
  {
   "cell_type": "markdown",
   "metadata": {},
   "source": [
    "### cosine similarity"
   ]
  },
  {
   "cell_type": "code",
   "execution_count": 49,
   "metadata": {
    "collapsed": true
   },
   "outputs": [],
   "source": [
    "from numpy import dot\n",
    "from numpy.linalg import norm\n",
    "\n",
    "def cosine_similarity(a,b):\n",
    "    if norm(a)*norm(b)==0:\n",
    "        cos_sim=0\n",
    "    else:\n",
    "        cos_sim = dot(a, b)/(norm(a)*norm(b))\n",
    "    return cos_sim"
   ]
  },
  {
   "cell_type": "code",
   "execution_count": 50,
   "metadata": {
    "collapsed": true
   },
   "outputs": [],
   "source": [
    "def consine(q_tfidf,d_tfidf):\n",
    "    import time\n",
    "    start = time.time()\n",
    "\n",
    "    sim_all={}\n",
    "    for q in range(len(q_tfidf)):\n",
    "        sim={}\n",
    "        sim_all[q]=sim\n",
    "    \n",
    "        for d in range(len(d_tfidf)):\n",
    "            sim[d]=cosine_similarity(d_tfidf[d],q_tfidf[q])\n",
    "        #print(sim)\n",
    "    end = time.time()\n",
    "    print(end - start)\n",
    "    return sim_all"
   ]
  },
  {
   "cell_type": "markdown",
   "metadata": {},
   "source": [
    "### hamming similarity"
   ]
  },
  {
   "cell_type": "code",
   "execution_count": 51,
   "metadata": {
    "collapsed": true
   },
   "outputs": [],
   "source": [
    "def Hamming_similarity(a,b):\n",
    "    similarity = np.sum(a == b)\n",
    "    return similarity"
   ]
  },
  {
   "cell_type": "code",
   "execution_count": 52,
   "metadata": {
    "collapsed": true
   },
   "outputs": [],
   "source": [
    "def sim(q_tfidf,d_tfidf):\n",
    "    import time\n",
    "    start = time.time()\n",
    "\n",
    "    sim_all={}\n",
    "    for q in range(len(q_tfidf)):\n",
    "        sim={}\n",
    "        sim_all[q]=sim\n",
    "    \n",
    "        for d in range(len(d_tfidf)):\n",
    "            sim[d]=Hamming_similarity(d_tfidf[d],q_tfidf[q])\n",
    "        #print(sim)\n",
    "    end = time.time()\n",
    "    print(end - start)\n",
    "    return sim_all"
   ]
  },
  {
   "cell_type": "markdown",
   "metadata": {},
   "source": [
    "### convert format"
   ]
  },
  {
   "cell_type": "code",
   "execution_count": 53,
   "metadata": {
    "collapsed": true
   },
   "outputs": [],
   "source": [
    "def df_similarity_final(sim_all):\n",
    "    df_similarity= pd.DataFrame(data=sim_all)\n",
    "    df_similarity['d_index']=df_similarity.index\n",
    "    df1 = df_similarity.reset_index(drop=True)\n",
    "    df2 = pd.melt(df1, id_vars=[\"d_index\"], var_name=\"q_index\", value_name=\"similarity\")\n",
    "    df2=df2.sort_values(by=['q_index','similarity'],ascending=[True,False])\n",
    "    df_query['q_index']=df_query.index\n",
    "    df_doc['d_index']=df_doc.index\n",
    "    df2=pd.merge(df2,df_query[['Query id','q_index']],on='q_index',how='left')\n",
    "    df2=pd.merge(df2,df_doc[['Doc id','d_index']],on='d_index',how='left')\n",
    "    df_similarity_final=df2[['Query id', 'Doc id', 'similarity']]\n",
    "    return df_similarity_final"
   ]
  },
  {
   "cell_type": "code",
   "execution_count": 54,
   "metadata": {
    "collapsed": true
   },
   "outputs": [],
   "source": [
    "def change_dataset_oder(df_similarity_final):\n",
    "    rel_label = pd.read_excel(\"all2-1-0.qrel.xlsx\")\n",
    "    rel_similarity=pd.merge(df_similarity_final[['Query id','Doc id']],rel_label, on=['Query id','Doc id'], how='left')\n",
    "    rel_similarity=rel_similarity.fillna(value=0)\n",
    "    rel_similarity=rel_similarity.drop(['Doc id'],axis=1)\n",
    "    s = rel_similarity.groupby('Query id')['Rel_level'].apply(lambda x: x.tolist())\n",
    "    correct_input=s.values\n",
    "    return correct_input"
   ]
  },
  {
   "cell_type": "markdown",
   "metadata": {},
   "source": [
    "### map"
   ]
  },
  {
   "cell_type": "code",
   "execution_count": 55,
   "metadata": {
    "collapsed": true
   },
   "outputs": [],
   "source": [
    "import numpy as np \n",
    "# presicion \n",
    "def precision(y_true):\n",
    "#y_true: this list reordered y_true list\n",
    "    p=[]\n",
    "    a=0\n",
    "    for i in range(len(y_true)):\n",
    "        if y_true[i]==1:\n",
    "            a+=1\n",
    "            precision=a/(i+1)\n",
    "            p.append(precision)\n",
    "    #print(p)\n",
    "    return p\n",
    "\n",
    "# average precision\n",
    "def AP(y_true):\n",
    "    p=precision(y_true)\n",
    "    if len(p)!=0:\n",
    "        AP=sum(p)/len(p)\n",
    "    else:\n",
    "        AP=0\n",
    "    #print(AP)\n",
    "    return AP\n",
    "\n",
    "\n",
    "def MAP(list_true):# query list \n",
    "    ap=[]\n",
    "    for i in range(len(list_true)):\n",
    "        ap.append(AP(list_true[i]))\n",
    "    total=sum(ap)\n",
    "    #print(ap)\n",
    "    return total/(len(list_true))"
   ]
  },
  {
   "cell_type": "markdown",
   "metadata": {},
   "source": [
    "### ndcg"
   ]
  },
  {
   "cell_type": "code",
   "execution_count": 56,
   "metadata": {
    "collapsed": true
   },
   "outputs": [],
   "source": [
    "import numpy as np \n",
    "def ndcg(correct):\n",
    "    if sum(correct)==0:\n",
    "        return 0\n",
    "    else:\n",
    "        dcg=0\n",
    "        for i in range(len(correct)):\n",
    "            gain=2**correct[i]-1\n",
    "            discounts=np.log2(i+2)\n",
    "            dcg=dcg+gain/discounts\n",
    "    \n",
    "        #idcg\n",
    "        order = np.argsort(correct)\n",
    "        sort_correct = np.take(correct, order[::-1])\n",
    "        idcg=0\n",
    "        for i in range(len(sort_correct)):\n",
    "            gain=2**sort_correct[i]-1\n",
    "            discounts=np.log2(i+2)\n",
    "            idcg=idcg+gain/discounts\n",
    "        #print(dcg)\n",
    "        #print(idcg)\n",
    "        return dcg/idcg\n",
    "\n",
    "def mean_ndcg(correct_list):\n",
    "    b=0\n",
    "    for correct in correct_list:\n",
    "        a=ndcg(correct)\n",
    "        b=b+a\n",
    "    return b/len(correct_list)"
   ]
  },
  {
   "cell_type": "markdown",
   "metadata": {},
   "source": [
    "## 1. basic SVM model for reference"
   ]
  },
  {
   "cell_type": "markdown",
   "metadata": {},
   "source": [
    "### import data"
   ]
  },
  {
   "cell_type": "code",
   "execution_count": 11,
   "metadata": {
    "collapsed": true
   },
   "outputs": [],
   "source": [
    "import pandas as pd\n",
    "import numpy as np\n",
    "\n",
    "df_query=pd.read_excel('df_query_pre.xlsx')\n",
    "df_doc=pd.read_excel('df_doc_pre.xlsx')\n",
    "\n",
    "doc_col=df_doc.loc[: , \"Text_tok\"].tolist() #collection: list"
   ]
  },
  {
   "cell_type": "markdown",
   "metadata": {},
   "source": [
    "### import dictionary & document frequency"
   ]
  },
  {
   "cell_type": "code",
   "execution_count": 12,
   "metadata": {
    "collapsed": true
   },
   "outputs": [],
   "source": [
    "dic_df=pd.read_csv('dictionary.csv')\n",
    "doc_fre_df=pd.read_csv('document_frequency.csv')\n",
    "\n",
    "dic=dic_df['0'].tolist()\n",
    "doc_fre=pd.Series(doc_fre_df.df.values,index=doc_fre_df.term).to_dict()"
   ]
  },
  {
   "cell_type": "markdown",
   "metadata": {},
   "source": [
    "### implementation: TFIDF"
   ]
  },
  {
   "cell_type": "code",
   "execution_count": 13,
   "metadata": {},
   "outputs": [
    {
     "name": "stdout",
     "output_type": "stream",
     "text": [
      "37.699589014053345\n"
     ]
    }
   ],
   "source": [
    "import time\n",
    "start = time.time()\n",
    "\n",
    "q_tfidf=tfidf_(df_query[\"Text_tok\"],dic,doc_fre,doc_col) # query tf-idf\n",
    "d_tfidf=tfidf_(df_doc[\"Text_tok\"],dic,doc_fre,doc_col) # doc tf-idf\n",
    "\n",
    "end = time.time()\n",
    "print(end - start)   # seconds"
   ]
  },
  {
   "cell_type": "markdown",
   "metadata": {},
   "source": [
    "## 2. random projection"
   ]
  },
  {
   "cell_type": "markdown",
   "metadata": {},
   "source": [
    "### random vector"
   ]
  },
  {
   "cell_type": "code",
   "execution_count": 14,
   "metadata": {
    "collapsed": true
   },
   "outputs": [],
   "source": [
    "#produce random vector: follw the normal distribution of each term\n",
    "import numpy as np\n",
    "def random(doc,n):\n",
    "    mu = np.mean(doc[:,0])\n",
    "    std = np.std(doc[:,0])\n",
    "    #np.random.seed(0)\n",
    "    random = np.random.normal(mu, std, n)\n",
    "    i=1\n",
    "    p=1\n",
    "    while i<18683:\n",
    "        mu = np.mean(doc[:,i])\n",
    "        std = np.std(doc[:,i])\n",
    "        #np.random.seed(p)\n",
    "        s = np.random.normal(mu, std, n)\n",
    "        random=np.column_stack((random, s))\n",
    "        i=i+1\n",
    "        p=p+1\n",
    "        \n",
    "    return random"
   ]
  },
  {
   "cell_type": "markdown",
   "metadata": {},
   "source": [
    "###  new vector"
   ]
  },
  {
   "cell_type": "code",
   "execution_count": 15,
   "metadata": {
    "collapsed": true
   },
   "outputs": [],
   "source": [
    "#compute new vector of document\n",
    "def new_doc(doc,random,n):\n",
    "    new_doc = np.zeros(shape=(5371,n))\n",
    "    i=0\n",
    "    while i<len(doc):\n",
    "        j=0\n",
    "        while j<len(random):\n",
    "            new_doc[i,j]=sum(np.multiply(doc[i,:],random[j,:]))\n",
    "            j=j+1\n",
    "        i=i+1\n",
    "    return new_doc"
   ]
  },
  {
   "cell_type": "code",
   "execution_count": 16,
   "metadata": {
    "collapsed": true
   },
   "outputs": [],
   "source": [
    "#compute new vector of query\n",
    "def new_q(doc,random,n):\n",
    "    new_doc = np.zeros(shape=(3237,n))\n",
    "    i=0\n",
    "    while i<len(doc):\n",
    "        j=0\n",
    "        while j<len(random):\n",
    "            new_doc[i,j]=sum(np.multiply(doc[i,:],random[j,:]))\n",
    "            j=j+1\n",
    "        i=i+1\n",
    "    return new_doc"
   ]
  },
  {
   "cell_type": "markdown",
   "metadata": {},
   "source": [
    "### case1：different thresholds \n",
    "different thresholds mean, for every document and every query, assign the median of its own vector to the threshold. That, implies, there are 5371 thresholds for documents and 3237 thresholds for query"
   ]
  },
  {
   "cell_type": "code",
   "execution_count": 21,
   "metadata": {
    "collapsed": true
   },
   "outputs": [],
   "source": [
    "# compute threshold and get final vector of query\n",
    "def final_q1(new_doc,n):\n",
    "    new_doc1 = np.zeros(shape=(3237,n))\n",
    "    i=0\n",
    "    while i<len(new_doc):\n",
    "        j=0\n",
    "        a=np.median(new_doc[i,:])\n",
    "        while j<n:\n",
    "            if new_doc[i,j]>a:\n",
    "                new_doc1[i,j]=1\n",
    "            else:\n",
    "                new_doc1[i,j]=0\n",
    "            j=j+1\n",
    "        i=i+1\n",
    "    return new_doc1\n",
    "\n"
   ]
  },
  {
   "cell_type": "code",
   "execution_count": 22,
   "metadata": {
    "collapsed": true
   },
   "outputs": [],
   "source": [
    "# compute threshold and get final vector of document\n",
    "def final_doc1(new_doc,n):\n",
    "    new_doc1 = np.zeros(shape=(5371,n))\n",
    "    i=0\n",
    "    while i<len(new_doc):\n",
    "        j=0\n",
    "        a=np.median(new_doc[i,:])\n",
    "        while j<n:\n",
    "            if new_doc[i,j]>a:\n",
    "                new_doc1[i,j]=1\n",
    "            else:\n",
    "                new_doc1[i,j]=0\n",
    "            j=j+1\n",
    "        i=i+1\n",
    "    return new_doc1"
   ]
  },
  {
   "cell_type": "markdown",
   "metadata": {},
   "source": [
    "### case 2：one global threshold \n",
    "global threshold means there is just one threshold for the whole document and another threshold for the whole query"
   ]
  },
  {
   "cell_type": "code",
   "execution_count": 23,
   "metadata": {
    "collapsed": true
   },
   "outputs": [],
   "source": [
    "# compute threshold and get final vector of documents\n",
    "def final_doc(new_doc,n):\n",
    "    new_doc1 = np.zeros(shape=(5371,n))\n",
    "    i=0\n",
    "    a=np.median(new_doc)\n",
    "    while i<len(new_doc):\n",
    "        j=0\n",
    "        while j<n:\n",
    "            if new_doc[i,j]>a:\n",
    "                new_doc1[i,j]=1\n",
    "            else:\n",
    "                new_doc1[i,j]=0\n",
    "            j=j+1\n",
    "        i=i+1\n",
    "    return new_doc1\n",
    "\n"
   ]
  },
  {
   "cell_type": "code",
   "execution_count": 24,
   "metadata": {
    "collapsed": true
   },
   "outputs": [],
   "source": [
    "# compute threshold and get final vector of query\n",
    "def final_q(new_doc,n):\n",
    "    new_doc1 = np.zeros(shape=(3237,n))\n",
    "    i=0\n",
    "    a=np.median(new_doc)\n",
    "    while i<len(new_doc):\n",
    "        j=0\n",
    "        while j<n:\n",
    "            if new_doc[i,j]>a:\n",
    "                new_doc1[i,j]=1\n",
    "            else:\n",
    "                new_doc1[i,j]=0\n",
    "            j=j+1\n",
    "        i=i+1\n",
    "    return new_doc1"
   ]
  },
  {
   "cell_type": "markdown",
   "metadata": {},
   "source": [
    "### * exported random projection vector results for quick testing"
   ]
  },
  {
   "cell_type": "code",
   "execution_count": null,
   "metadata": {
    "collapsed": true
   },
   "outputs": [],
   "source": [
    "# if use following imported vectors, you don't need to run vertor generation code\n",
    "\n",
    "#new_doc1=pd.read_csv(\"new_doc1.csv\")\n",
    "#new_doc1=new_doc1.values\n",
    "#new_q1=pd.read_csv(\"new_q1.csv\")\n",
    "#new_q1=new_q1.values\n",
    "\n",
    "#new_doc2=pd.read_csv(\"new_doc2.csv\")\n",
    "#new_doc2=new_doc2.values\n",
    "#new_q2=pd.read_csv(\"new_q2.csv\")\n",
    "#new_q2=new_q2.values\n",
    "\n",
    "#new_doc3=pd.read_csv(\"new_doc3.csv\")\n",
    "#new_doc3=new_doc3.values\n",
    "#new_q3=pd.read_csv(\"new_q3.csv\")\n",
    "#new_q3=new_q3.values\n",
    "\n",
    "#new_doc4=pd.read_csv(\"new_doc4.csv\")\n",
    "#new_doc4=new_doc4.values\n",
    "#new_q4=pd.read_csv(\"new_q4.csv\")\n",
    "#new_q4=new_q4.values\n",
    "\n",
    "#new_doc5=pd.read_csv(\"new_doc5.csv\")\n",
    "#new_doc5=new_doc5.values\n",
    "#new_q5=pd.read_csv(\"new_q5.csv\")\n",
    "#new_q5=new_q5.values\n",
    "\n",
    "#new_doc6=pd.read_csv(\"new_doc6.csv\")\n",
    "#new_doc6=new_doc6.values\n",
    "#new_q6=pd.read_csv(\"new_q6.csv\")\n",
    "#new_q6=new_q6.values\n",
    "\n",
    "#new_doc7=pd.read_csv(\"new_doc7.csv\")\n",
    "#new_doc7=new_doc7.values\n",
    "#new_q7=pd.read_csv(\"new_q7.csv\")\n",
    "#new_q7=new_q7.values\n",
    "\n",
    "#new_doc8=pd.read_csv(\"new_doc8.csv\")\n",
    "#new_doc8=new_doc8.values\n",
    "#new_q8=pd.read_csv(\"new_q8.csv\")\n",
    "#new_q8=new_q8.values\n"
   ]
  },
  {
   "cell_type": "markdown",
   "metadata": {},
   "source": [
    "### eight final vector length :10, 100, 300, 500, 1000, 2000, 2500, 3000 "
   ]
  },
  {
   "cell_type": "markdown",
   "metadata": {},
   "source": [
    "## 1.vector length: 10 "
   ]
  },
  {
   "cell_type": "code",
   "execution_count": 31,
   "metadata": {
    "collapsed": true
   },
   "outputs": [],
   "source": [
    "#vertor generation \n",
    "random1=random(d_tfidf,10)\n",
    "new_doc1=new_doc(d_tfidf,random1,10)\n",
    "\n",
    "random_1=random(q_tfidf,10)\n",
    "new_q1=new_q(q_tfidf,random_1,10)"
   ]
  },
  {
   "cell_type": "markdown",
   "metadata": {},
   "source": [
    "### 1.1 different thresholds "
   ]
  },
  {
   "cell_type": "markdown",
   "metadata": {},
   "source": [
    "#### cosine similarity"
   ]
  },
  {
   "cell_type": "code",
   "execution_count": 28,
   "metadata": {
    "collapsed": true
   },
   "outputs": [],
   "source": [
    "d_tfidf1=final_doc1(new_doc1,10)\n",
    "q_tfidf1=final_q1(new_q1,10)"
   ]
  },
  {
   "cell_type": "code",
   "execution_count": 29,
   "metadata": {},
   "outputs": [
    {
     "name": "stdout",
     "output_type": "stream",
     "text": [
      "299.25027298927307\n"
     ]
    }
   ],
   "source": [
    "sim_all=consine(q_tfidf1,d_tfidf1)\n",
    "df_similarity_final=df_similarity_final(sim_all)\n",
    "correct_input=change_dataset_oder(df_similarity_final)"
   ]
  },
  {
   "cell_type": "code",
   "execution_count": 30,
   "metadata": {},
   "outputs": [
    {
     "name": "stdout",
     "output_type": "stream",
     "text": [
      "0.008384934726485903\n"
     ]
    }
   ],
   "source": [
    "print(MAP(correct_input))"
   ]
  },
  {
   "cell_type": "code",
   "execution_count": 31,
   "metadata": {},
   "outputs": [
    {
     "name": "stdout",
     "output_type": "stream",
     "text": [
      "0.249905719421\n"
     ]
    }
   ],
   "source": [
    "print(mean_ndcg(correct_input))"
   ]
  },
  {
   "cell_type": "markdown",
   "metadata": {},
   "source": [
    "#### hamming similarity"
   ]
  },
  {
   "cell_type": "code",
   "execution_count": 42,
   "metadata": {},
   "outputs": [
    {
     "name": "stdout",
     "output_type": "stream",
     "text": [
      "87.69659113883972\n"
     ]
    }
   ],
   "source": [
    "sim_all=sim(q_tfidf1,d_tfidf1)\n",
    "df_similarity_final=df_similarity_final(sim_all)\n",
    "correct_input=change_dataset_oder(df_similarity_final)"
   ]
  },
  {
   "cell_type": "code",
   "execution_count": 43,
   "metadata": {},
   "outputs": [
    {
     "name": "stdout",
     "output_type": "stream",
     "text": [
      "0.008384986203085622\n"
     ]
    }
   ],
   "source": [
    "print(MAP(correct_input))"
   ]
  },
  {
   "cell_type": "code",
   "execution_count": 44,
   "metadata": {},
   "outputs": [
    {
     "name": "stdout",
     "output_type": "stream",
     "text": [
      "0.249905905643\n"
     ]
    }
   ],
   "source": [
    "print(mean_ndcg(correct_input))"
   ]
  },
  {
   "cell_type": "markdown",
   "metadata": {},
   "source": [
    "### 1.2 one global threshold "
   ]
  },
  {
   "cell_type": "markdown",
   "metadata": {},
   "source": [
    "#### cosine similarity"
   ]
  },
  {
   "cell_type": "code",
   "execution_count": 45,
   "metadata": {
    "collapsed": true
   },
   "outputs": [],
   "source": [
    "d_tfidf1_=final_doc(new_doc1,10)\n",
    "q_tfidf1_=final_q(new_q1,10)"
   ]
  },
  {
   "cell_type": "code",
   "execution_count": 63,
   "metadata": {},
   "outputs": [
    {
     "name": "stdout",
     "output_type": "stream",
     "text": [
      "302.709450006485\n"
     ]
    }
   ],
   "source": [
    "sim_all_=consine(q_tfidf1_,d_tfidf1_)\n",
    "df_similarity_final_=df_similarity_final(sim_all_)\n",
    "correct_input_=change_dataset_oder(df_similarity_final_)"
   ]
  },
  {
   "cell_type": "code",
   "execution_count": 58,
   "metadata": {},
   "outputs": [
    {
     "name": "stdout",
     "output_type": "stream",
     "text": [
      "0.00815880780272387\n"
     ]
    }
   ],
   "source": [
    "print(MAP(correct_input_))"
   ]
  },
  {
   "cell_type": "code",
   "execution_count": 59,
   "metadata": {},
   "outputs": [
    {
     "name": "stdout",
     "output_type": "stream",
     "text": [
      "0.248378014527\n"
     ]
    }
   ],
   "source": [
    "print(mean_ndcg(correct_input_))"
   ]
  },
  {
   "cell_type": "markdown",
   "metadata": {},
   "source": [
    "####  hamming similarity"
   ]
  },
  {
   "cell_type": "code",
   "execution_count": 60,
   "metadata": {},
   "outputs": [
    {
     "name": "stdout",
     "output_type": "stream",
     "text": [
      "83.55536365509033\n"
     ]
    }
   ],
   "source": [
    "sim_all_=sim(q_tfidf1_,d_tfidf1_)\n",
    "df_similarity_final_=df_similarity_final(sim_all_)\n",
    "correct_input_=change_dataset_oder(df_similarity_final_)"
   ]
  },
  {
   "cell_type": "code",
   "execution_count": 61,
   "metadata": {},
   "outputs": [
    {
     "name": "stdout",
     "output_type": "stream",
     "text": [
      "0.00806652771459403\n"
     ]
    }
   ],
   "source": [
    "print(MAP(correct_input_))"
   ]
  },
  {
   "cell_type": "code",
   "execution_count": 62,
   "metadata": {},
   "outputs": [
    {
     "name": "stdout",
     "output_type": "stream",
     "text": [
      "0.248159418293\n"
     ]
    }
   ],
   "source": [
    "print(mean_ndcg(correct_input_))"
   ]
  },
  {
   "cell_type": "markdown",
   "metadata": {},
   "source": [
    "## 2. vector length: 100"
   ]
  },
  {
   "cell_type": "code",
   "execution_count": 39,
   "metadata": {
    "collapsed": true
   },
   "outputs": [],
   "source": [
    "#vertor generation \n",
    "random2=random(d_tfidf,100)\n",
    "new_doc2=new_doc(d_tfidf,random2,100)\n",
    "\n",
    "random_2=random(q_tfidf,100)\n",
    "new_q2=new_q(q_tfidf,random_2,100)"
   ]
  },
  {
   "cell_type": "markdown",
   "metadata": {},
   "source": [
    "### 2.1 different thresholds"
   ]
  },
  {
   "cell_type": "markdown",
   "metadata": {},
   "source": [
    "#### cosine similarity"
   ]
  },
  {
   "cell_type": "code",
   "execution_count": 194,
   "metadata": {
    "collapsed": true
   },
   "outputs": [],
   "source": [
    "d_tfidf2=final_doc1(new_doc2,100)\n",
    "q_tfidf2=final_q1(new_q2,100)"
   ]
  },
  {
   "cell_type": "code",
   "execution_count": 195,
   "metadata": {},
   "outputs": [
    {
     "name": "stdout",
     "output_type": "stream",
     "text": [
      "288.9096212387085\n"
     ]
    }
   ],
   "source": [
    "sim_all2=consine(q_tfidf2,d_tfidf2)\n",
    "df_similarity_final2=df_similarity_final(sim_all2)\n",
    "correct_input2=change_dataset_oder(df_similarity_final2)"
   ]
  },
  {
   "cell_type": "code",
   "execution_count": 200,
   "metadata": {},
   "outputs": [
    {
     "name": "stdout",
     "output_type": "stream",
     "text": [
      "0.014539957646979858\n"
     ]
    }
   ],
   "source": [
    "print(MAP(correct_input2))"
   ]
  },
  {
   "cell_type": "code",
   "execution_count": 201,
   "metadata": {},
   "outputs": [
    {
     "name": "stdout",
     "output_type": "stream",
     "text": [
      "0.266425484529\n"
     ]
    }
   ],
   "source": [
    "print(mean_ndcg(correct_input2))"
   ]
  },
  {
   "cell_type": "markdown",
   "metadata": {},
   "source": [
    "#### hamming similarity"
   ]
  },
  {
   "cell_type": "code",
   "execution_count": 202,
   "metadata": {},
   "outputs": [
    {
     "name": "stdout",
     "output_type": "stream",
     "text": [
      "96.97552394866943\n"
     ]
    }
   ],
   "source": [
    "sim_all2=sim(q_tfidf2,d_tfidf2)\n",
    "df_similarity_final2=df_similarity_final(sim_all2)\n",
    "correct_input2=change_dataset_oder(df_similarity_final2)"
   ]
  },
  {
   "cell_type": "code",
   "execution_count": 204,
   "metadata": {},
   "outputs": [
    {
     "name": "stdout",
     "output_type": "stream",
     "text": [
      "0.014539957646979858\n"
     ]
    }
   ],
   "source": [
    "print(MAP(correct_input2))"
   ]
  },
  {
   "cell_type": "code",
   "execution_count": 205,
   "metadata": {},
   "outputs": [
    {
     "name": "stdout",
     "output_type": "stream",
     "text": [
      "0.266425484529\n"
     ]
    }
   ],
   "source": [
    "print(mean_ndcg(correct_input2))"
   ]
  },
  {
   "cell_type": "markdown",
   "metadata": {},
   "source": [
    "### 2.2 one global threshold"
   ]
  },
  {
   "cell_type": "markdown",
   "metadata": {},
   "source": [
    "#### cosine similarity"
   ]
  },
  {
   "cell_type": "code",
   "execution_count": 65,
   "metadata": {
    "collapsed": true
   },
   "outputs": [],
   "source": [
    "d_tfidf2_=final_doc(new_doc2,100)\n",
    "q_tfidf2_=final_q(new_q2,100)"
   ]
  },
  {
   "cell_type": "code",
   "execution_count": 66,
   "metadata": {},
   "outputs": [
    {
     "name": "stdout",
     "output_type": "stream",
     "text": [
      "307.42424297332764\n"
     ]
    }
   ],
   "source": [
    "sim_all2_=consine(q_tfidf2_,d_tfidf2_)\n",
    "df_similarity_final2_=df_similarity_final(sim_all2_)\n",
    "correct_input2_=change_dataset_oder(df_similarity_final2_)"
   ]
  },
  {
   "cell_type": "code",
   "execution_count": 67,
   "metadata": {},
   "outputs": [
    {
     "name": "stdout",
     "output_type": "stream",
     "text": [
      "0.00993482942938619\n"
     ]
    }
   ],
   "source": [
    "print(MAP(correct_input2_))"
   ]
  },
  {
   "cell_type": "code",
   "execution_count": 68,
   "metadata": {},
   "outputs": [
    {
     "name": "stdout",
     "output_type": "stream",
     "text": [
      "0.254331175727\n"
     ]
    }
   ],
   "source": [
    "print(mean_ndcg(correct_input2_))"
   ]
  },
  {
   "cell_type": "markdown",
   "metadata": {},
   "source": [
    "#### hamming similarity"
   ]
  },
  {
   "cell_type": "code",
   "execution_count": 69,
   "metadata": {},
   "outputs": [
    {
     "name": "stdout",
     "output_type": "stream",
     "text": [
      "87.12870693206787\n"
     ]
    }
   ],
   "source": [
    "sim_all2_=sim(q_tfidf2_,d_tfidf2_)\n",
    "df_similarity_final2_=df_similarity_final(sim_all2_)\n",
    "correct_input2_=change_dataset_oder(df_similarity_final2_)"
   ]
  },
  {
   "cell_type": "code",
   "execution_count": 70,
   "metadata": {},
   "outputs": [
    {
     "name": "stdout",
     "output_type": "stream",
     "text": [
      "0.008991434195971933\n"
     ]
    }
   ],
   "source": [
    "print(MAP(correct_input2_))"
   ]
  },
  {
   "cell_type": "code",
   "execution_count": 71,
   "metadata": {},
   "outputs": [
    {
     "name": "stdout",
     "output_type": "stream",
     "text": [
      "0.252442204871\n"
     ]
    }
   ],
   "source": [
    "print(mean_ndcg(correct_input2_))"
   ]
  },
  {
   "cell_type": "markdown",
   "metadata": {},
   "source": [
    "## 3. Vector length: 300"
   ]
  },
  {
   "cell_type": "code",
   "execution_count": 56,
   "metadata": {
    "collapsed": true
   },
   "outputs": [],
   "source": [
    "#vertor generation \n",
    "random3=random(d_tfidf,300)\n",
    "new_doc3=new_doc(d_tfidf,random3,300)\n",
    "\n",
    "random_3=random(q_tfidf,300)\n",
    "new_q3=new_q(q_tfidf,random_3,300)"
   ]
  },
  {
   "cell_type": "markdown",
   "metadata": {},
   "source": [
    "### 3.1 different thresholds "
   ]
  },
  {
   "cell_type": "markdown",
   "metadata": {},
   "source": [
    "#### cosine similarity "
   ]
  },
  {
   "cell_type": "code",
   "execution_count": 152,
   "metadata": {
    "collapsed": true
   },
   "outputs": [],
   "source": [
    "d_tfidf3=final_doc1(new_doc3,300)\n",
    "q_tfidf3=final_q1(new_q3,300)"
   ]
  },
  {
   "cell_type": "code",
   "execution_count": 153,
   "metadata": {},
   "outputs": [
    {
     "name": "stdout",
     "output_type": "stream",
     "text": [
      "299.6170370578766\n"
     ]
    }
   ],
   "source": [
    "sim_all3=consine(q_tfidf3,d_tfidf3)\n",
    "df_similarity_final3=df_similarity_final(sim_all3)\n",
    "correct_input3=change_dataset_oder(df_similarity_final3)"
   ]
  },
  {
   "cell_type": "code",
   "execution_count": 154,
   "metadata": {},
   "outputs": [
    {
     "name": "stdout",
     "output_type": "stream",
     "text": [
      "0.027158705760747217\n"
     ]
    }
   ],
   "source": [
    "print(MAP(correct_input3))"
   ]
  },
  {
   "cell_type": "code",
   "execution_count": 155,
   "metadata": {},
   "outputs": [
    {
     "name": "stdout",
     "output_type": "stream",
     "text": [
      "0.292317063566\n"
     ]
    }
   ],
   "source": [
    "print(mean_ndcg(correct_input3))"
   ]
  },
  {
   "cell_type": "markdown",
   "metadata": {},
   "source": [
    "#### hamming similarity "
   ]
  },
  {
   "cell_type": "code",
   "execution_count": 156,
   "metadata": {},
   "outputs": [
    {
     "name": "stdout",
     "output_type": "stream",
     "text": [
      "94.5193841457367\n"
     ]
    }
   ],
   "source": [
    "sim_all3=sim(q_tfidf3,d_tfidf3)\n",
    "df_similarity_final3=df_similarity_final(sim_all3)\n",
    "correct_input3=change_dataset_oder(df_similarity_final3)"
   ]
  },
  {
   "cell_type": "code",
   "execution_count": 157,
   "metadata": {},
   "outputs": [
    {
     "name": "stdout",
     "output_type": "stream",
     "text": [
      "0.027158705760747217\n"
     ]
    }
   ],
   "source": [
    "print(MAP(correct_input3))"
   ]
  },
  {
   "cell_type": "code",
   "execution_count": 158,
   "metadata": {},
   "outputs": [
    {
     "name": "stdout",
     "output_type": "stream",
     "text": [
      "0.292317063566\n"
     ]
    }
   ],
   "source": [
    "print(mean_ndcg(correct_input3))"
   ]
  },
  {
   "cell_type": "markdown",
   "metadata": {},
   "source": [
    "### 3.2 one global threshold"
   ]
  },
  {
   "cell_type": "markdown",
   "metadata": {},
   "source": [
    "#### cosine similarity "
   ]
  },
  {
   "cell_type": "code",
   "execution_count": 73,
   "metadata": {
    "collapsed": true
   },
   "outputs": [],
   "source": [
    "d_tfidf3_=final_doc(new_doc3,300)\n",
    "q_tfidf3_=final_q(new_q3,300)"
   ]
  },
  {
   "cell_type": "code",
   "execution_count": 74,
   "metadata": {},
   "outputs": [
    {
     "name": "stdout",
     "output_type": "stream",
     "text": [
      "311.10126090049744\n"
     ]
    }
   ],
   "source": [
    "sim_all3_=consine(q_tfidf3_,d_tfidf3_)\n",
    "df_similarity_final3_=df_similarity_final(sim_all3_)\n",
    "correct_input3_=change_dataset_oder(df_similarity_final3_)"
   ]
  },
  {
   "cell_type": "code",
   "execution_count": 75,
   "metadata": {},
   "outputs": [
    {
     "name": "stdout",
     "output_type": "stream",
     "text": [
      "0.009968235329121656\n"
     ]
    }
   ],
   "source": [
    "print(MAP(correct_input3_))"
   ]
  },
  {
   "cell_type": "code",
   "execution_count": 76,
   "metadata": {},
   "outputs": [
    {
     "name": "stdout",
     "output_type": "stream",
     "text": [
      "0.256161542556\n"
     ]
    }
   ],
   "source": [
    "print(mean_ndcg(correct_input3_))"
   ]
  },
  {
   "cell_type": "markdown",
   "metadata": {},
   "source": [
    "#### hamming similarity"
   ]
  },
  {
   "cell_type": "code",
   "execution_count": 77,
   "metadata": {},
   "outputs": [
    {
     "name": "stdout",
     "output_type": "stream",
     "text": [
      "99.83816075325012\n"
     ]
    }
   ],
   "source": [
    "sim_all3_=sim(q_tfidf3_,d_tfidf3_)\n",
    "df_similarity_final3_=df_similarity_final(sim_all3_)\n",
    "correct_input3_=change_dataset_oder(df_similarity_final3_)"
   ]
  },
  {
   "cell_type": "code",
   "execution_count": 78,
   "metadata": {},
   "outputs": [
    {
     "name": "stdout",
     "output_type": "stream",
     "text": [
      "0.00918976746705226\n"
     ]
    }
   ],
   "source": [
    "print(MAP(correct_input3_))"
   ]
  },
  {
   "cell_type": "code",
   "execution_count": 79,
   "metadata": {},
   "outputs": [
    {
     "name": "stdout",
     "output_type": "stream",
     "text": [
      "0.253025328109\n"
     ]
    }
   ],
   "source": [
    "print(mean_ndcg(correct_input3_))"
   ]
  },
  {
   "cell_type": "markdown",
   "metadata": {},
   "source": [
    "## 4. vector length: 500"
   ]
  },
  {
   "cell_type": "code",
   "execution_count": 78,
   "metadata": {
    "collapsed": true
   },
   "outputs": [],
   "source": [
    "#vertor generation \n",
    "random4=random(d_tfidf,500)\n",
    "new_doc4=new_doc(d_tfidf,random4,500)\n",
    "\n",
    "random_4=random(q_tfidf,500)\n",
    "new_q4=new_q(q_tfidf,random_4,500)"
   ]
  },
  {
   "cell_type": "markdown",
   "metadata": {},
   "source": [
    "### 4.1 different thresholds"
   ]
  },
  {
   "cell_type": "markdown",
   "metadata": {},
   "source": [
    "#### cosine similarity "
   ]
  },
  {
   "cell_type": "code",
   "execution_count": 159,
   "metadata": {
    "collapsed": true
   },
   "outputs": [],
   "source": [
    "d_tfidf4=final_doc1(new_doc4,500)\n",
    "q_tfidf4=final_q1(new_q4,500)"
   ]
  },
  {
   "cell_type": "code",
   "execution_count": 160,
   "metadata": {},
   "outputs": [
    {
     "name": "stdout",
     "output_type": "stream",
     "text": [
      "304.8833122253418\n"
     ]
    }
   ],
   "source": [
    "sim_all4=consine(q_tfidf4,d_tfidf4)\n",
    "df_similarity_final4=df_similarity_final(sim_all4)\n",
    "correct_input4=change_dataset_oder(df_similarity_final4)"
   ]
  },
  {
   "cell_type": "code",
   "execution_count": 161,
   "metadata": {},
   "outputs": [
    {
     "name": "stdout",
     "output_type": "stream",
     "text": [
      "0.035462716716465614\n"
     ]
    }
   ],
   "source": [
    "print(MAP(correct_input4))"
   ]
  },
  {
   "cell_type": "code",
   "execution_count": 162,
   "metadata": {},
   "outputs": [
    {
     "name": "stdout",
     "output_type": "stream",
     "text": [
      "0.306962214323\n"
     ]
    }
   ],
   "source": [
    "print(mean_ndcg(correct_input4))"
   ]
  },
  {
   "cell_type": "markdown",
   "metadata": {},
   "source": [
    "#### hamming similarity"
   ]
  },
  {
   "cell_type": "code",
   "execution_count": 163,
   "metadata": {},
   "outputs": [
    {
     "name": "stdout",
     "output_type": "stream",
     "text": [
      "104.0230188369751\n"
     ]
    }
   ],
   "source": [
    "sim_all4=sim(q_tfidf4,d_tfidf4)\n",
    "df_similarity_final4=df_similarity_final(sim_all4)\n",
    "correct_input4=change_dataset_oder(df_similarity_final4)"
   ]
  },
  {
   "cell_type": "code",
   "execution_count": 164,
   "metadata": {},
   "outputs": [
    {
     "name": "stdout",
     "output_type": "stream",
     "text": [
      "0.035462716716465614\n"
     ]
    }
   ],
   "source": [
    "print(MAP(correct_input4))"
   ]
  },
  {
   "cell_type": "code",
   "execution_count": 165,
   "metadata": {},
   "outputs": [
    {
     "name": "stdout",
     "output_type": "stream",
     "text": [
      "0.306962214323\n"
     ]
    }
   ],
   "source": [
    "print(mean_ndcg(correct_input4))"
   ]
  },
  {
   "cell_type": "markdown",
   "metadata": {},
   "source": [
    "### 4.2 one global threshold"
   ]
  },
  {
   "cell_type": "markdown",
   "metadata": {},
   "source": [
    "#### cosine similarity"
   ]
  },
  {
   "cell_type": "code",
   "execution_count": 82,
   "metadata": {
    "collapsed": true
   },
   "outputs": [],
   "source": [
    "d_tfidf4_=final_doc(new_doc4,500)\n",
    "q_tfidf4_=final_q(new_q4,500)"
   ]
  },
  {
   "cell_type": "code",
   "execution_count": 83,
   "metadata": {},
   "outputs": [
    {
     "name": "stdout",
     "output_type": "stream",
     "text": [
      "303.65888690948486\n"
     ]
    }
   ],
   "source": [
    "sim_all4_=consine(q_tfidf4_,d_tfidf4_)\n",
    "df_similarity_final4_=df_similarity_final(sim_all4_)\n",
    "correct_input4_=change_dataset_oder(df_similarity_final4_)"
   ]
  },
  {
   "cell_type": "code",
   "execution_count": 84,
   "metadata": {},
   "outputs": [
    {
     "name": "stdout",
     "output_type": "stream",
     "text": [
      "0.010578638703937831\n"
     ]
    }
   ],
   "source": [
    "print(MAP(correct_input4_))"
   ]
  },
  {
   "cell_type": "code",
   "execution_count": 85,
   "metadata": {},
   "outputs": [
    {
     "name": "stdout",
     "output_type": "stream",
     "text": [
      "0.257881808231\n"
     ]
    }
   ],
   "source": [
    "print(mean_ndcg(correct_input4_))"
   ]
  },
  {
   "cell_type": "markdown",
   "metadata": {},
   "source": [
    "#### hamming similarity "
   ]
  },
  {
   "cell_type": "code",
   "execution_count": 86,
   "metadata": {},
   "outputs": [
    {
     "name": "stdout",
     "output_type": "stream",
     "text": [
      "110.7463538646698\n"
     ]
    }
   ],
   "source": [
    "sim_all4_=sim(q_tfidf4_,d_tfidf4_)\n",
    "df_similarity_final4_=df_similarity_final(sim_all4_)\n",
    "correct_input4_=change_dataset_oder(df_similarity_final4_)"
   ]
  },
  {
   "cell_type": "code",
   "execution_count": 87,
   "metadata": {},
   "outputs": [
    {
     "name": "stdout",
     "output_type": "stream",
     "text": [
      "0.00929361583203649\n"
     ]
    }
   ],
   "source": [
    "print(MAP(correct_input4_))"
   ]
  },
  {
   "cell_type": "code",
   "execution_count": 88,
   "metadata": {},
   "outputs": [
    {
     "name": "stdout",
     "output_type": "stream",
     "text": [
      "0.253425335687\n"
     ]
    }
   ],
   "source": [
    "print(mean_ndcg(correct_input4_))"
   ]
  },
  {
   "cell_type": "markdown",
   "metadata": {},
   "source": [
    "## 5. vector length: 1000"
   ]
  },
  {
   "cell_type": "code",
   "execution_count": 86,
   "metadata": {
    "collapsed": true
   },
   "outputs": [],
   "source": [
    "#vertor generation \n",
    "random5=random(d_tfidf,1000)\n",
    "new_doc5=new_doc(d_tfidf,random5,1000)\n",
    "\n",
    "random_5=random(q_tfidf,1000)\n",
    "new_q5=new_q(q_tfidf,random_5,1000)"
   ]
  },
  {
   "cell_type": "markdown",
   "metadata": {},
   "source": [
    "### 5.1 different thresholds "
   ]
  },
  {
   "cell_type": "markdown",
   "metadata": {},
   "source": [
    "#### cosine similarity"
   ]
  },
  {
   "cell_type": "code",
   "execution_count": 166,
   "metadata": {
    "collapsed": true
   },
   "outputs": [],
   "source": [
    "d_tfidf5=final_doc1(new_doc5,1000)\n",
    "q_tfidf5=final_q1(new_q5,1000)"
   ]
  },
  {
   "cell_type": "code",
   "execution_count": 167,
   "metadata": {},
   "outputs": [
    {
     "name": "stdout",
     "output_type": "stream",
     "text": [
      "323.89371609687805\n"
     ]
    }
   ],
   "source": [
    "sim_all5=consine(q_tfidf5,d_tfidf5)\n",
    "df_similarity_final5=df_similarity_final(sim_all5)\n",
    "correct_input5=change_dataset_oder(df_similarity_final5)"
   ]
  },
  {
   "cell_type": "code",
   "execution_count": 168,
   "metadata": {},
   "outputs": [
    {
     "name": "stdout",
     "output_type": "stream",
     "text": [
      "0.046536753334454006\n"
     ]
    }
   ],
   "source": [
    "print(MAP(correct_input5))"
   ]
  },
  {
   "cell_type": "code",
   "execution_count": 169,
   "metadata": {},
   "outputs": [
    {
     "name": "stdout",
     "output_type": "stream",
     "text": [
      "0.3284382807\n"
     ]
    }
   ],
   "source": [
    "print(mean_ndcg(correct_input5))"
   ]
  },
  {
   "cell_type": "markdown",
   "metadata": {},
   "source": [
    "#### hamming similarity "
   ]
  },
  {
   "cell_type": "code",
   "execution_count": 170,
   "metadata": {},
   "outputs": [
    {
     "name": "stdout",
     "output_type": "stream",
     "text": [
      "126.13582587242126\n"
     ]
    }
   ],
   "source": [
    "sim_all5=sim(q_tfidf5,d_tfidf5)\n",
    "df_similarity_final5=df_similarity_final(sim_all5)\n",
    "correct_input5=change_dataset_oder(df_similarity_final5)"
   ]
  },
  {
   "cell_type": "code",
   "execution_count": 171,
   "metadata": {},
   "outputs": [
    {
     "name": "stdout",
     "output_type": "stream",
     "text": [
      "0.046536753334454006\n"
     ]
    }
   ],
   "source": [
    "print(MAP(correct_input5))"
   ]
  },
  {
   "cell_type": "code",
   "execution_count": 172,
   "metadata": {},
   "outputs": [
    {
     "name": "stdout",
     "output_type": "stream",
     "text": [
      "0.3284382807\n"
     ]
    }
   ],
   "source": [
    "print(mean_ndcg(correct_input5))"
   ]
  },
  {
   "cell_type": "markdown",
   "metadata": {},
   "source": [
    "### 5.2 one global threshold"
   ]
  },
  {
   "cell_type": "markdown",
   "metadata": {},
   "source": [
    "####  cosine similarity"
   ]
  },
  {
   "cell_type": "code",
   "execution_count": 90,
   "metadata": {
    "collapsed": true
   },
   "outputs": [],
   "source": [
    "d_tfidf5_=final_doc(new_doc5,1000)\n",
    "q_tfidf5_=final_q(new_q5,1000)"
   ]
  },
  {
   "cell_type": "code",
   "execution_count": 91,
   "metadata": {},
   "outputs": [
    {
     "name": "stdout",
     "output_type": "stream",
     "text": [
      "354.75254106521606\n"
     ]
    }
   ],
   "source": [
    "sim_all5_=consine(q_tfidf5_,d_tfidf5_)\n",
    "df_similarity_final5_=df_similarity_final(sim_all5_)\n",
    "correct_input5_=change_dataset_oder(df_similarity_final5_)"
   ]
  },
  {
   "cell_type": "code",
   "execution_count": 92,
   "metadata": {},
   "outputs": [
    {
     "name": "stdout",
     "output_type": "stream",
     "text": [
      "0.012005269341050636\n"
     ]
    }
   ],
   "source": [
    "print(MAP(correct_input5_))"
   ]
  },
  {
   "cell_type": "code",
   "execution_count": 93,
   "metadata": {},
   "outputs": [
    {
     "name": "stdout",
     "output_type": "stream",
     "text": [
      "0.26089410365\n"
     ]
    }
   ],
   "source": [
    "print(mean_ndcg(correct_input5_))"
   ]
  },
  {
   "cell_type": "markdown",
   "metadata": {},
   "source": [
    "#### hamming similarity"
   ]
  },
  {
   "cell_type": "code",
   "execution_count": 94,
   "metadata": {},
   "outputs": [
    {
     "name": "stdout",
     "output_type": "stream",
     "text": [
      "141.83697700500488\n"
     ]
    }
   ],
   "source": [
    "sim_all5_=sim(q_tfidf5_,d_tfidf5_)\n",
    "df_similarity_final5_=df_similarity_final(sim_all5_)\n",
    "correct_input5_=change_dataset_oder(df_similarity_final5_)"
   ]
  },
  {
   "cell_type": "code",
   "execution_count": 95,
   "metadata": {},
   "outputs": [
    {
     "name": "stdout",
     "output_type": "stream",
     "text": [
      "0.009432204552807551\n"
     ]
    }
   ],
   "source": [
    "print(MAP(correct_input5_))"
   ]
  },
  {
   "cell_type": "code",
   "execution_count": 96,
   "metadata": {},
   "outputs": [
    {
     "name": "stdout",
     "output_type": "stream",
     "text": [
      "0.253766278767\n"
     ]
    }
   ],
   "source": [
    "print(mean_ndcg(correct_input5_))"
   ]
  },
  {
   "cell_type": "markdown",
   "metadata": {},
   "source": [
    "## 6. vector length: 2000"
   ]
  },
  {
   "cell_type": "code",
   "execution_count": 108,
   "metadata": {
    "collapsed": true
   },
   "outputs": [],
   "source": [
    "#vertor generation \n",
    "random6=random(d_tfidf,2000)\n",
    "new_doc6=new_doc(d_tfidf,random6,2000)\n",
    "\n",
    "random_6=random(q_tfidf,2000)\n",
    "new_q6=new_q(q_tfidf,random_6,2000)"
   ]
  },
  {
   "cell_type": "markdown",
   "metadata": {},
   "source": [
    "### 6.1 different thresholds "
   ]
  },
  {
   "cell_type": "markdown",
   "metadata": {},
   "source": [
    "#### cosine similarity "
   ]
  },
  {
   "cell_type": "code",
   "execution_count": 104,
   "metadata": {
    "collapsed": true
   },
   "outputs": [],
   "source": [
    "d_tfidf6=final_doc1(new_doc6,2000)\n",
    "q_tfidf6=final_q1(new_q6,2000)"
   ]
  },
  {
   "cell_type": "code",
   "execution_count": 174,
   "metadata": {},
   "outputs": [
    {
     "name": "stdout",
     "output_type": "stream",
     "text": [
      "432.96828722953796\n"
     ]
    }
   ],
   "source": [
    "sim_all6=consine(q_tfidf6,d_tfidf6)\n",
    "df_similarity_final6=df_similarity_final(sim_all6)\n",
    "correct_input6=change_dataset_oder(df_similarity_final6)"
   ]
  },
  {
   "cell_type": "code",
   "execution_count": 106,
   "metadata": {},
   "outputs": [
    {
     "name": "stdout",
     "output_type": "stream",
     "text": [
      "0.057554004075443345\n"
     ]
    }
   ],
   "source": [
    "print(MAP(correct_input6))"
   ]
  },
  {
   "cell_type": "code",
   "execution_count": 107,
   "metadata": {},
   "outputs": [
    {
     "name": "stdout",
     "output_type": "stream",
     "text": [
      "0.348192680832\n"
     ]
    }
   ],
   "source": [
    "print(mean_ndcg(correct_input6))"
   ]
  },
  {
   "cell_type": "markdown",
   "metadata": {},
   "source": [
    "#### hamming similarity "
   ]
  },
  {
   "cell_type": "code",
   "execution_count": 108,
   "metadata": {},
   "outputs": [
    {
     "name": "stdout",
     "output_type": "stream",
     "text": [
      "184.89722108840942\n"
     ]
    }
   ],
   "source": [
    "sim_all6=sim(q_tfidf6,d_tfidf6)\n",
    "df_similarity_final6=df_similarity_final(sim_all6)\n",
    "correct_input6=change_dataset_oder(df_similarity_final6)"
   ]
  },
  {
   "cell_type": "code",
   "execution_count": 109,
   "metadata": {},
   "outputs": [
    {
     "name": "stdout",
     "output_type": "stream",
     "text": [
      "0.057554004075443345\n"
     ]
    }
   ],
   "source": [
    "print(MAP(correct_input6))"
   ]
  },
  {
   "cell_type": "code",
   "execution_count": 110,
   "metadata": {},
   "outputs": [
    {
     "name": "stdout",
     "output_type": "stream",
     "text": [
      "0.348192680832\n"
     ]
    }
   ],
   "source": [
    "print(mean_ndcg(correct_input6))"
   ]
  },
  {
   "cell_type": "markdown",
   "metadata": {},
   "source": [
    "### 6.2 one global threshold"
   ]
  },
  {
   "cell_type": "markdown",
   "metadata": {},
   "source": [
    "#### cosine similarity"
   ]
  },
  {
   "cell_type": "code",
   "execution_count": 111,
   "metadata": {
    "collapsed": true
   },
   "outputs": [],
   "source": [
    "d_tfidf6_=final_doc(new_doc6,2000)\n",
    "q_tfidf6_=final_q(new_q6,2000)"
   ]
  },
  {
   "cell_type": "code",
   "execution_count": 113,
   "metadata": {},
   "outputs": [
    {
     "name": "stdout",
     "output_type": "stream",
     "text": [
      "404.04836201667786\n"
     ]
    }
   ],
   "source": [
    "sim_all6_=consine(q_tfidf6_,d_tfidf6_)\n",
    "df_similarity_final6_=df_similarity_final(sim_all6_)\n",
    "correct_input6_=change_dataset_oder(df_similarity_final6_)"
   ]
  },
  {
   "cell_type": "code",
   "execution_count": 114,
   "metadata": {},
   "outputs": [
    {
     "name": "stdout",
     "output_type": "stream",
     "text": [
      "0.015407917122855545\n"
     ]
    }
   ],
   "source": [
    "print(MAP(correct_input6_))"
   ]
  },
  {
   "cell_type": "code",
   "execution_count": 115,
   "metadata": {},
   "outputs": [
    {
     "name": "stdout",
     "output_type": "stream",
     "text": [
      "0.266010056692\n"
     ]
    }
   ],
   "source": [
    "print(mean_ndcg(correct_input6_))"
   ]
  },
  {
   "cell_type": "markdown",
   "metadata": {},
   "source": [
    "#### hamming similarity "
   ]
  },
  {
   "cell_type": "code",
   "execution_count": 116,
   "metadata": {},
   "outputs": [
    {
     "name": "stdout",
     "output_type": "stream",
     "text": [
      "175.9710772037506\n"
     ]
    }
   ],
   "source": [
    "sim_all6_=sim(q_tfidf6_,d_tfidf6_)\n",
    "df_similarity_final6_=df_similarity_final(sim_all6_)\n",
    "correct_input6_=change_dataset_oder(df_similarity_final6_)"
   ]
  },
  {
   "cell_type": "code",
   "execution_count": 117,
   "metadata": {},
   "outputs": [
    {
     "name": "stdout",
     "output_type": "stream",
     "text": [
      "0.009606074332417065\n"
     ]
    }
   ],
   "source": [
    "print(MAP(correct_input6_))"
   ]
  },
  {
   "cell_type": "code",
   "execution_count": 118,
   "metadata": {},
   "outputs": [
    {
     "name": "stdout",
     "output_type": "stream",
     "text": [
      "0.254171549029\n"
     ]
    }
   ],
   "source": [
    "print(mean_ndcg(correct_input6_))"
   ]
  },
  {
   "cell_type": "markdown",
   "metadata": {},
   "source": [
    "## 7. vector length:3000"
   ]
  },
  {
   "cell_type": "code",
   "execution_count": 152,
   "metadata": {
    "collapsed": true
   },
   "outputs": [],
   "source": [
    "#vertor generation \n",
    "random7_=random(d_tfidf,3000)\n",
    "new_doc7_=new_doc(d_tfidf,random7_,3000)\n",
    "\n",
    "random_7_=random(q_tfidf,3000)\n",
    "new_q7_=new_q(q_tfidf,random_7_,3000)"
   ]
  },
  {
   "cell_type": "markdown",
   "metadata": {},
   "source": [
    "### 7.1 different thresholds"
   ]
  },
  {
   "cell_type": "markdown",
   "metadata": {},
   "source": [
    "#### cosine similarity "
   ]
  },
  {
   "cell_type": "code",
   "execution_count": 122,
   "metadata": {
    "collapsed": true
   },
   "outputs": [],
   "source": [
    "d_tfidf7=final_doc1(new_doc7_,3000)\n",
    "q_tfidf7=final_q1(new_q7_,3000)"
   ]
  },
  {
   "cell_type": "code",
   "execution_count": 123,
   "metadata": {},
   "outputs": [
    {
     "name": "stdout",
     "output_type": "stream",
     "text": [
      "406.38906812667847\n"
     ]
    }
   ],
   "source": [
    "sim_all7=consine(q_tfidf7,d_tfidf7)\n",
    "df_similarity_final7=df_similarity_final(sim_all7)\n",
    "correct_input7=change_dataset_oder(df_similarity_final7)"
   ]
  },
  {
   "cell_type": "code",
   "execution_count": 124,
   "metadata": {},
   "outputs": [
    {
     "name": "stdout",
     "output_type": "stream",
     "text": [
      "0.008547454780365291\n"
     ]
    }
   ],
   "source": [
    "print(MAP(correct_input7))"
   ]
  },
  {
   "cell_type": "code",
   "execution_count": 125,
   "metadata": {},
   "outputs": [
    {
     "name": "stdout",
     "output_type": "stream",
     "text": [
      "0.250171164203\n"
     ]
    }
   ],
   "source": [
    "print(mean_ndcg(correct_input7))"
   ]
  },
  {
   "cell_type": "markdown",
   "metadata": {},
   "source": [
    "#### hamming similarity "
   ]
  },
  {
   "cell_type": "code",
   "execution_count": 126,
   "metadata": {},
   "outputs": [
    {
     "name": "stdout",
     "output_type": "stream",
     "text": [
      "205.90796995162964\n"
     ]
    }
   ],
   "source": [
    "sim_all7=sim(q_tfidf7,d_tfidf7)\n",
    "df_similarity_final7=df_similarity_final(sim_all7)\n",
    "correct_input7=change_dataset_oder(df_similarity_final7)"
   ]
  },
  {
   "cell_type": "code",
   "execution_count": 127,
   "metadata": {},
   "outputs": [
    {
     "name": "stdout",
     "output_type": "stream",
     "text": [
      "0.008547454780365291\n"
     ]
    }
   ],
   "source": [
    "print(MAP(correct_input7))"
   ]
  },
  {
   "cell_type": "code",
   "execution_count": 128,
   "metadata": {},
   "outputs": [
    {
     "name": "stdout",
     "output_type": "stream",
     "text": [
      "0.250171164203\n"
     ]
    }
   ],
   "source": [
    "print(mean_ndcg(correct_input7))"
   ]
  },
  {
   "cell_type": "markdown",
   "metadata": {},
   "source": [
    "### 7.2 one global threshold"
   ]
  },
  {
   "cell_type": "markdown",
   "metadata": {},
   "source": [
    "#### cosine similarity¶ "
   ]
  },
  {
   "cell_type": "code",
   "execution_count": 129,
   "metadata": {
    "collapsed": true
   },
   "outputs": [],
   "source": [
    "d_tfidf7_=final_doc(new_doc7_,3000)\n",
    "q_tfidf7_=final_q(new_q7_,3000)"
   ]
  },
  {
   "cell_type": "code",
   "execution_count": 130,
   "metadata": {},
   "outputs": [
    {
     "name": "stdout",
     "output_type": "stream",
     "text": [
      "394.8771526813507\n"
     ]
    }
   ],
   "source": [
    "sim_all7_=consine(q_tfidf7_,d_tfidf7_)\n",
    "df_similarity_final7_=df_similarity_final(sim_all7_)\n",
    "correct_input7_=change_dataset_oder(df_similarity_final7_)"
   ]
  },
  {
   "cell_type": "code",
   "execution_count": 131,
   "metadata": {},
   "outputs": [
    {
     "name": "stdout",
     "output_type": "stream",
     "text": [
      "0.0087914308832336\n"
     ]
    }
   ],
   "source": [
    "print(MAP(correct_input7_))"
   ]
  },
  {
   "cell_type": "code",
   "execution_count": 132,
   "metadata": {},
   "outputs": [
    {
     "name": "stdout",
     "output_type": "stream",
     "text": [
      "0.250995798842\n"
     ]
    }
   ],
   "source": [
    "print(mean_ndcg(correct_input7_))"
   ]
  },
  {
   "cell_type": "markdown",
   "metadata": {},
   "source": [
    "#### hamming similarity "
   ]
  },
  {
   "cell_type": "code",
   "execution_count": 134,
   "metadata": {},
   "outputs": [
    {
     "name": "stdout",
     "output_type": "stream",
     "text": [
      "204.52503299713135\n"
     ]
    }
   ],
   "source": [
    "sim_all7_=sim(q_tfidf7_,d_tfidf7_)\n",
    "df_similarity_final7_=df_similarity_final(sim_all7_)\n",
    "correct_input7_=change_dataset_oder(df_similarity_final7_)"
   ]
  },
  {
   "cell_type": "code",
   "execution_count": 135,
   "metadata": {},
   "outputs": [
    {
     "name": "stdout",
     "output_type": "stream",
     "text": [
      "0.009003417099736746\n"
     ]
    }
   ],
   "source": [
    "print(MAP(correct_input7_))"
   ]
  },
  {
   "cell_type": "code",
   "execution_count": 136,
   "metadata": {},
   "outputs": [
    {
     "name": "stdout",
     "output_type": "stream",
     "text": [
      "0.252553727498\n"
     ]
    }
   ],
   "source": [
    "print(mean_ndcg(correct_input7_))"
   ]
  },
  {
   "cell_type": "markdown",
   "metadata": {},
   "source": [
    "## 8. vector length:2500"
   ]
  },
  {
   "cell_type": "code",
   "execution_count": 299,
   "metadata": {
    "collapsed": true
   },
   "outputs": [],
   "source": [
    "#vertor generation \n",
    "random8=random(d_tfidf,2500)\n",
    "new_doc8=new_doc(d_tfidf,random8,2500)\n",
    "\n",
    "random_8=random(q_tfidf,2500)\n",
    "new_q8=new_q(q_tfidf,random_8,2500)"
   ]
  },
  {
   "cell_type": "markdown",
   "metadata": {},
   "source": [
    "### 8.1 different thresholds "
   ]
  },
  {
   "cell_type": "markdown",
   "metadata": {},
   "source": [
    "#### cosine similarity "
   ]
  },
  {
   "cell_type": "code",
   "execution_count": 138,
   "metadata": {
    "collapsed": true
   },
   "outputs": [],
   "source": [
    "d_tfidf8=final_doc1(new_doc8,2500)\n",
    "q_tfidf8=final_q1(new_q8,2500)"
   ]
  },
  {
   "cell_type": "code",
   "execution_count": 139,
   "metadata": {},
   "outputs": [
    {
     "name": "stdout",
     "output_type": "stream",
     "text": [
      "375.99183201789856\n"
     ]
    }
   ],
   "source": [
    "sim_all8=consine(q_tfidf8,d_tfidf8)\n",
    "df_similarity_final8=df_similarity_final(sim_all8)\n",
    "correct_input8=change_dataset_oder(df_similarity_final8)"
   ]
  },
  {
   "cell_type": "code",
   "execution_count": 140,
   "metadata": {},
   "outputs": [
    {
     "name": "stdout",
     "output_type": "stream",
     "text": [
      "0.009049736514169775\n"
     ]
    }
   ],
   "source": [
    "print(MAP(correct_input8))"
   ]
  },
  {
   "cell_type": "code",
   "execution_count": 141,
   "metadata": {},
   "outputs": [
    {
     "name": "stdout",
     "output_type": "stream",
     "text": [
      "0.252295462847\n"
     ]
    }
   ],
   "source": [
    "print(mean_ndcg(correct_input8))"
   ]
  },
  {
   "cell_type": "markdown",
   "metadata": {},
   "source": [
    "#### hamming similarity"
   ]
  },
  {
   "cell_type": "code",
   "execution_count": 142,
   "metadata": {},
   "outputs": [
    {
     "name": "stdout",
     "output_type": "stream",
     "text": [
      "189.8171226978302\n"
     ]
    }
   ],
   "source": [
    "sim_all8=sim(q_tfidf8,d_tfidf8)\n",
    "df_similarity_final8=df_similarity_final(sim_all8)\n",
    "correct_input8=change_dataset_oder(df_similarity_final8)"
   ]
  },
  {
   "cell_type": "code",
   "execution_count": 143,
   "metadata": {},
   "outputs": [
    {
     "name": "stdout",
     "output_type": "stream",
     "text": [
      "0.009049736514169775\n"
     ]
    }
   ],
   "source": [
    "print(MAP(correct_input8))"
   ]
  },
  {
   "cell_type": "code",
   "execution_count": 144,
   "metadata": {},
   "outputs": [
    {
     "name": "stdout",
     "output_type": "stream",
     "text": [
      "0.252295462847\n"
     ]
    }
   ],
   "source": [
    "print(mean_ndcg(correct_input8))"
   ]
  },
  {
   "cell_type": "markdown",
   "metadata": {},
   "source": [
    "### 8.2 one global threshold"
   ]
  },
  {
   "cell_type": "markdown",
   "metadata": {},
   "source": [
    "#### cosine similarity "
   ]
  },
  {
   "cell_type": "code",
   "execution_count": 145,
   "metadata": {
    "collapsed": true
   },
   "outputs": [],
   "source": [
    "d_tfidf8_=final_doc(new_doc8,2500)\n",
    "q_tfidf8_=final_q(new_q8,2500)"
   ]
  },
  {
   "cell_type": "code",
   "execution_count": 146,
   "metadata": {},
   "outputs": [
    {
     "name": "stdout",
     "output_type": "stream",
     "text": [
      "380.0483572483063\n"
     ]
    }
   ],
   "source": [
    "sim_all8_=consine(q_tfidf8_,d_tfidf8_)\n",
    "df_similarity_final8_=df_similarity_final(sim_all8_)\n",
    "correct_input8_=change_dataset_oder(df_similarity_final8_)"
   ]
  },
  {
   "cell_type": "code",
   "execution_count": 147,
   "metadata": {},
   "outputs": [
    {
     "name": "stdout",
     "output_type": "stream",
     "text": [
      "0.008889530267905756\n"
     ]
    }
   ],
   "source": [
    "print(MAP(correct_input8_))"
   ]
  },
  {
   "cell_type": "code",
   "execution_count": 148,
   "metadata": {},
   "outputs": [
    {
     "name": "stdout",
     "output_type": "stream",
     "text": [
      "0.251584940304\n"
     ]
    }
   ],
   "source": [
    "print(mean_ndcg(correct_input8_))"
   ]
  },
  {
   "cell_type": "markdown",
   "metadata": {},
   "source": [
    "#### hamming similarity "
   ]
  },
  {
   "cell_type": "code",
   "execution_count": 149,
   "metadata": {},
   "outputs": [
    {
     "name": "stdout",
     "output_type": "stream",
     "text": [
      "190.58933401107788\n"
     ]
    }
   ],
   "source": [
    "sim_all8_=sim(q_tfidf8_,d_tfidf8_)\n",
    "df_similarity_final8_=df_similarity_final(sim_all8_)\n",
    "correct_input8_=change_dataset_oder(df_similarity_final8_)"
   ]
  },
  {
   "cell_type": "code",
   "execution_count": 150,
   "metadata": {},
   "outputs": [
    {
     "name": "stdout",
     "output_type": "stream",
     "text": [
      "0.009064333859309423\n"
     ]
    }
   ],
   "source": [
    "print(MAP(correct_input8_))"
   ]
  },
  {
   "cell_type": "code",
   "execution_count": 151,
   "metadata": {},
   "outputs": [
    {
     "name": "stdout",
     "output_type": "stream",
     "text": [
      "0.252618256755\n"
     ]
    }
   ],
   "source": [
    "print(mean_ndcg(correct_input8_))"
   ]
  }
 ],
 "metadata": {
  "kernelspec": {
   "display_name": "Python 3",
   "language": "python",
   "name": "python3"
  },
  "language_info": {
   "codemirror_mode": {
    "name": "ipython",
    "version": 3
   },
   "file_extension": ".py",
   "mimetype": "text/x-python",
   "name": "python",
   "nbconvert_exporter": "python",
   "pygments_lexer": "ipython3",
   "version": "3.6.3"
  }
 },
 "nbformat": 4,
 "nbformat_minor": 2
}
